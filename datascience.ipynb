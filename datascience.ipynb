{
 "cells": [
  {
   "cell_type": "code",
   "execution_count": 7,
   "id": "e7bc4eb3-29ca-4106-af53-1fa65446bcf1",
   "metadata": {},
   "outputs": [],
   "source": [
    "##Introduction\n",
    "##This notebook covers various aspects of data science, including languages, libraries and tools."
   ]
  },
  {
   "cell_type": "code",
   "execution_count": 9,
   "id": "a7d68c28-e0fc-4c04-aac9-82da5515453c",
   "metadata": {},
   "outputs": [],
   "source": [
    "##Data science languages\n",
    "##Python\n",
    "##R\n",
    "##SQL"
   ]
  },
  {
   "cell_type": "code",
   "execution_count": 11,
   "id": "5cebf867-52bf-48da-bf41-486f2803b1a4",
   "metadata": {},
   "outputs": [],
   "source": [
    "##Data science libraries\n",
    "##Numpy\n",
    "##Pandas\n",
    "##Matplotlib"
   ]
  },
  {
   "cell_type": "code",
   "execution_count": 13,
   "id": "04527918-25ab-4c68-b7d7-a846be024f0d",
   "metadata": {},
   "outputs": [],
   "source": [
    "##Data Science tools\n",
    "##Jyputer\n",
    "##Tableau\n",
    "##Rstudio"
   ]
  },
  {
   "cell_type": "code",
   "execution_count": 15,
   "id": "82207c59-5d44-483b-9e68-db563aac2673",
   "metadata": {},
   "outputs": [],
   "source": [
    "##Arithematic expression example"
   ]
  },
  {
   "cell_type": "code",
   "execution_count": 23,
   "id": "443cb833-4b47-4ea6-ad79-2689ce45f3ae",
   "metadata": {},
   "outputs": [
    {
     "data": {
      "text/plain": [
       "(150, 25)"
      ]
     },
     "execution_count": 23,
     "metadata": {},
     "output_type": "execute_result"
    }
   ],
   "source": [
    "a = 10\n",
    "b = 15\n",
    "multiplication = a*b\n",
    "addition = a+b\n",
    "multiplication, addition"
   ]
  },
  {
   "cell_type": "code",
   "execution_count": 25,
   "id": "41ea8ed2-ae56-44a9-8dd9-8c474b46c61c",
   "metadata": {},
   "outputs": [
    {
     "data": {
      "text/plain": [
       "1.0"
      ]
     },
     "execution_count": 25,
     "metadata": {},
     "output_type": "execute_result"
    }
   ],
   "source": [
    "minutes= 60\n",
    "hours = minutes/60\n",
    "hours"
   ]
  },
  {
   "cell_type": "code",
   "execution_count": 27,
   "id": "8ef23065-3f3b-479e-b6f7-7e4ad2f9ea4a",
   "metadata": {},
   "outputs": [],
   "source": [
    "##Objectives\n",
    "##-understanding basic data science concepts\n",
    "##-learning about various programming languages used in data science\n",
    "##-Familiarize with key libraries and tools in data science"
   ]
  },
  {
   "cell_type": "code",
   "execution_count": 29,
   "id": "bfcdf7ea-d5ea-4d7e-acef-c9dd18c7fac1",
   "metadata": {},
   "outputs": [],
   "source": [
    "##Author\n",
    "##- Prangya Parmita Jena"
   ]
  },
  {
   "cell_type": "code",
   "execution_count": 32,
   "id": "6eb31dff-81c5-4c66-a437-d2c3c50cf5b6",
   "metadata": {},
   "outputs": [],
   "source": [
    "#Data Science and its tools"
   ]
  },
  {
   "cell_type": "code",
   "execution_count": null,
   "id": "b5c265e1-924f-42d6-8812-4e5a3f115289",
   "metadata": {},
   "outputs": [],
   "source": []
  }
 ],
 "metadata": {
  "kernelspec": {
   "display_name": "Python 3 (ipykernel)",
   "language": "python",
   "name": "python3"
  },
  "language_info": {
   "codemirror_mode": {
    "name": "ipython",
    "version": 3
   },
   "file_extension": ".py",
   "mimetype": "text/x-python",
   "name": "python",
   "nbconvert_exporter": "python",
   "pygments_lexer": "ipython3",
   "version": "3.12.4"
  }
 },
 "nbformat": 4,
 "nbformat_minor": 5
}
